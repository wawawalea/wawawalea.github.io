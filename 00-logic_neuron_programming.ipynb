{
  "cells": [
    {
      "cell_type": "markdown",
      "metadata": {
        "id": "srq7ZMW5vvaH"
      },
      "source": [
        "# Code your own neuron and neural net\n",
        "The parts of code that look like\n",
        "```python\n",
        "pass  # ⬅️✏️\n",
        "```\n",
        "need to be filled in before moving to the next cell.\n",
        "\n",
        "Check out the slides and / or corresponding video lecture for more instructions."
      ]
    },
    {
      "cell_type": "code",
      "execution_count": 13,
      "metadata": {
        "lines_to_next_cell": 1,
        "id": "KVI8TCrwvvaI"
      },
      "outputs": [],
      "source": [
        "# Define two vectors (lists): input my_x, weights my_w\n",
        "my_x = [0, 1, 1]\n",
        "my_w = [-10, 10, 5]"
      ]
    },
    {
      "cell_type": "code",
      "execution_count": 36,
      "metadata": {
        "id": "a4lSlKnXvvaI"
      },
      "outputs": [],
      "source": [
        "# Multiply two lists element wise\n",
        "def mul(a, b):\n",
        "  c = [0] * len(a)\n",
        "  for i in range(len(a)):\n",
        "    c[i] = a[i] * b[i]\n",
        "  return c"
      ]
    },
    {
      "cell_type": "markdown",
      "metadata": {
        "id": "qER7QXHNvvaI"
      },
      "source": [
        "---"
      ]
    },
    {
      "cell_type": "code",
      "execution_count": 37,
      "metadata": {
        "colab": {
          "base_uri": "https://localhost:8080/"
        },
        "id": "N-SHf4_0vvaI",
        "outputId": "f7e3c330-5703-48ab-a8fb-5959c3fe85ce"
      },
      "outputs": [
        {
          "output_type": "execute_result",
          "data": {
            "text/plain": [
              "[0, 0]"
            ]
          },
          "metadata": {},
          "execution_count": 37
        }
      ],
      "source": [
        "# Test mul() function\n",
        "mul(my_x, my_w)"
      ]
    },
    {
      "cell_type": "code",
      "execution_count": 16,
      "metadata": {
        "lines_to_next_cell": 1,
        "id": "AwFuD7eqvvaI"
      },
      "outputs": [],
      "source": [
        "# Define a scalar: bias b\n",
        "my_b = -5"
      ]
    },
    {
      "cell_type": "code",
      "execution_count": 7,
      "metadata": {
        "id": "eH0RNoMGvvaI"
      },
      "outputs": [],
      "source": [
        "# Neuron linear (internal) potential\n",
        "def linear_neuron(x, weights, bias):\n",
        "  s = sum(mul(x, weights)) + bias\n",
        "  return s"
      ]
    },
    {
      "cell_type": "markdown",
      "metadata": {
        "id": "aSVUG0aqvvaI"
      },
      "source": [
        "---"
      ]
    },
    {
      "cell_type": "code",
      "execution_count": 38,
      "metadata": {
        "colab": {
          "base_uri": "https://localhost:8080/"
        },
        "id": "4lJl9ajjvvaI",
        "outputId": "3ea5947c-4327-46c5-ce82-2b29e2861a4b"
      },
      "outputs": [
        {
          "output_type": "execute_result",
          "data": {
            "text/plain": [
              "-5"
            ]
          },
          "metadata": {},
          "execution_count": 38
        }
      ],
      "source": [
        "# Test linear_neuron() function\n",
        "linear_neuron(my_x, my_w, my_b)"
      ]
    },
    {
      "cell_type": "code",
      "execution_count": 12,
      "metadata": {
        "lines_to_next_cell": 1,
        "id": "EmOOX0hLvvaI"
      },
      "outputs": [],
      "source": [
        "# Import exp() function (safe on lists)\n",
        "from numpy import exp"
      ]
    },
    {
      "cell_type": "code",
      "execution_count": 10,
      "metadata": {
        "id": "GccwDGJRvvaI"
      },
      "outputs": [],
      "source": [
        "# Logistic sigmoid\n",
        "def sigmoid(z):\n",
        "  return 1/(1 + exp(-z))\n",
        "\n",
        ""
      ]
    },
    {
      "cell_type": "markdown",
      "metadata": {
        "id": "eWayEuRuvvaI"
      },
      "source": [
        "---"
      ]
    },
    {
      "cell_type": "code",
      "execution_count": 18,
      "metadata": {
        "colab": {
          "base_uri": "https://localhost:8080/"
        },
        "id": "Wy_9Zi-MvvaI",
        "outputId": "951fc41d-f721-476f-f391-308702e1a20f"
      },
      "outputs": [
        {
          "output_type": "stream",
          "name": "stdout",
          "text": [
            "0.0066928509242848554\n",
            "0.5\n",
            "0.9933071490757153\n"
          ]
        }
      ],
      "source": [
        "# Try out σ() for different z values\n",
        "for z in (-5, 0, 5): print(sigmoid(z))"
      ]
    },
    {
      "cell_type": "code",
      "execution_count": 55,
      "metadata": {
        "id": "f8DhPfUkvvaJ"
      },
      "outputs": [],
      "source": [
        "# Import some plotting stuff to graph sigmoid()\n",
        "from numpy import linspace\n",
        "from matplotlib.pyplot import plot, axhline, axvline, grid, style\n",
        "style.use('dark_background')"
      ]
    },
    {
      "cell_type": "code",
      "execution_count": 56,
      "metadata": {
        "colab": {
          "base_uri": "https://localhost:8080/",
          "height": 430
        },
        "id": "TzEolwcGvvaJ",
        "outputId": "b2e44550-c6fe-4328-cf05-4b36f1f18b08"
      },
      "outputs": [
        {
          "output_type": "display_data",
          "data": {
            "text/plain": [
              "<Figure size 640x480 with 1 Axes>"
            ],
            "image/png": "[encoded data removed]"
          },
          "metadata": {}
        }
      ],
      "source": [
        "# Get a pair of axis and grid lines centred in (0, 0)\n",
        "axhline(c='.2'); axvline(color='.2')\n",
        "grid(c='.1', ls='--')\n",
        "\n",
        "# Plot across a span of numbers\n",
        "z = linspace(-7.5, 7.5)\n",
        "plot(z, sigmoid(z));"
      ]
    },
    {
      "cell_type": "code",
      "execution_count": 21,
      "metadata": {
        "id": "b7OJ_F1TvvaJ"
      },
      "outputs": [],
      "source": [
        "# Full neuron function\n",
        "def neuron(x, weights, bias):\n",
        "  j = linear_neuron (x, weights, bias)\n",
        "  return sigmoid(j)\n",
        "\n",
        ""
      ]
    },
    {
      "cell_type": "markdown",
      "metadata": {
        "id": "Cb6eojfovvaJ"
      },
      "source": [
        "---"
      ]
    },
    {
      "cell_type": "code",
      "execution_count": 53,
      "metadata": {
        "colab": {
          "base_uri": "https://localhost:8080/"
        },
        "id": "t-LvsGRAvvaJ",
        "outputId": "255732b9-4b7f-4d44-fbcb-be62f760d69b"
      },
      "outputs": [
        {
          "output_type": "execute_result",
          "data": {
            "text/plain": [
              "np.float64(3.059022269256247e-07)"
            ]
          },
          "metadata": {},
          "execution_count": 53
        }
      ],
      "source": [
        "# Test neuron() function\n",
        "neuron(my_x, my_w, my_b)"
      ]
    },
    {
      "cell_type": "code",
      "execution_count": 22,
      "metadata": {
        "lines_to_next_cell": 1,
        "id": "ZtQUU4itvvaJ"
      },
      "outputs": [],
      "source": [
        "# Package OR neuron weights and bias\n",
        "def or_neuron(x):\n",
        "\n",
        "   my_w = [10, 10]\n",
        "   my_b = -5\n",
        "   return neuron(x, my_w, my_b)"
      ]
    },
    {
      "cell_type": "markdown",
      "metadata": {
        "id": "8Cw9VmTKvvaJ"
      },
      "source": [
        "---"
      ]
    },
    {
      "cell_type": "code",
      "execution_count": 34,
      "metadata": {
        "id": "PfehQrNLvvaJ"
      },
      "outputs": [],
      "source": [
        "# Defina a collection of inputs to test OR and AND\n",
        "my_x_collection = [\n",
        "    [0, 0],\n",
        "    [0, 1],\n",
        "    [1, 0],\n",
        "    [1, 1],\n",
        "]"
      ]
    },
    {
      "cell_type": "code",
      "execution_count": 40,
      "metadata": {
        "lines_to_next_cell": 1,
        "colab": {
          "base_uri": "https://localhost:8080/"
        },
        "id": "I0IV9TGrvvaJ",
        "outputId": "3bed11c5-e82a-4b93-ab44-aa6347b2cce0"
      },
      "outputs": [
        {
          "output_type": "stream",
          "name": "stdout",
          "text": [
            "Checking OR neuron output\n",
            "[0, 0] 0.007\n",
            "[0, 1] 0.993\n",
            "[1, 0] 0.993\n",
            "[1, 1] 1.000\n"
          ]
        }
      ],
      "source": [
        "print('Checking OR neuron output')\n",
        "for my_x in my_x_collection:\n",
        "    print(my_x, f'{or_neuron(my_x):.3f}')"
      ]
    },
    {
      "cell_type": "code",
      "execution_count": 52,
      "metadata": {
        "lines_to_next_cell": 1,
        "id": "JpTuB7hZvvaJ"
      },
      "outputs": [],
      "source": [
        "# Package AND neuron weights and bias\n",
        "def and_neuron(x):\n",
        "\n",
        "    my_w = [15, 15]\n",
        "    my_b = -20\n",
        "\n",
        "    return neuron(x, my_w, my_b)\n",
        ""
      ]
    },
    {
      "cell_type": "markdown",
      "metadata": {
        "id": "p17mZbM2vvaJ"
      },
      "source": [
        "---"
      ]
    },
    {
      "cell_type": "code",
      "execution_count": 41,
      "metadata": {
        "lines_to_next_cell": 1,
        "colab": {
          "base_uri": "https://localhost:8080/"
        },
        "id": "3Lb--4I8vvaJ",
        "outputId": "98072f31-9936-40fd-eab5-7ff49cc9759a"
      },
      "outputs": [
        {
          "output_type": "stream",
          "name": "stdout",
          "text": [
            "Checking AND neuron output\n",
            "[0, 0] 0.000\n",
            "[0, 1] 0.007\n",
            "[1, 0] 0.007\n",
            "[1, 1] 1.000\n"
          ]
        }
      ],
      "source": [
        "print('Checking AND neuron output')\n",
        "for my_x in my_x_collection:\n",
        "    print(my_x, f'{and_neuron(my_x):.3f}')"
      ]
    },
    {
      "cell_type": "code",
      "execution_count": 51,
      "metadata": {
        "lines_to_next_cell": 1,
        "id": "EnT31PH3vvaJ"
      },
      "outputs": [],
      "source": [
        "# Package NOT neuron weight and bias\n",
        "def not_neuron(x):\n",
        "  return neuron(x, [10], -5)"
      ]
    },
    {
      "cell_type": "markdown",
      "metadata": {
        "id": "drmMk6rYvvaJ"
      },
      "source": [
        "---"
      ]
    },
    {
      "cell_type": "code",
      "execution_count": 50,
      "metadata": {
        "lines_to_next_cell": 1,
        "colab": {
          "base_uri": "https://localhost:8080/"
        },
        "id": "Hy3uMMyWvvaJ",
        "outputId": "3713ba79-24c0-4946-9b30-58e2b5d4f705"
      },
      "outputs": [
        {
          "output_type": "stream",
          "name": "stdout",
          "text": [
            "Checking NOT neuron output\n",
            "[0] 0.007\n",
            "[1] 0.993\n"
          ]
        }
      ],
      "source": [
        "print('Checking NOT neuron output')\n",
        "for my_x in [[0], [1]]:\n",
        "    print(my_x, f'{not_neuron(my_x):.3f}')"
      ]
    },
    {
      "cell_type": "markdown",
      "metadata": {
        "id": "EsIjbfEcvvaJ"
      },
      "source": [
        "![X-OR](https://github.com/Atcold/NYU-DLSP20/blob/master/res/x-or_circuit.png?raw=1)"
      ]
    },
    {
      "cell_type": "code",
      "execution_count": 58,
      "metadata": {
        "id": "cIbOEZEWvvaJ"
      },
      "outputs": [],
      "source": [
        "# Combine OR, AND, and NOT into a XOR neuron\n",
        "def xor_neuron(x):\n",
        "  x1 = not_neuron([or_neuron(x)])\n",
        "  x2 = and_neuron(x)\n",
        "  return or_neuron([x1, x2])"
      ]
    },
    {
      "cell_type": "markdown",
      "metadata": {
        "id": "qC1jbXcrvvaJ"
      },
      "source": [
        "---"
      ]
    },
    {
      "cell_type": "code",
      "execution_count": 61,
      "metadata": {
        "colab": {
          "base_uri": "https://localhost:8080/",
          "height": 347
        },
        "id": "IIaypuPWvvaJ",
        "outputId": "4f969663-1a39-4a35-daa2-0ffa7ec5c9dc"
      },
      "outputs": [
        {
          "output_type": "stream",
          "name": "stdout",
          "text": [
            "Checking XOR neuron output\n"
          ]
        },
        {
          "output_type": "error",
          "ename": "TypeError",
          "evalue": "object of type 'int' has no len()",
          "traceback": [
            "\u001b[0;31m---------------------------------------------------------------------------\u001b[0m",
            "\u001b[0;31mTypeError\u001b[0m                                 Traceback (most recent call last)",
            "\u001b[0;32m/tmp/ipython-input-3847833709.py\u001b[0m in \u001b[0;36m<cell line: 0>\u001b[0;34m()\u001b[0m\n\u001b[1;32m      1\u001b[0m \u001b[0mprint\u001b[0m\u001b[0;34m(\u001b[0m\u001b[0;34m'Checking XOR neuron output'\u001b[0m\u001b[0;34m)\u001b[0m\u001b[0;34m\u001b[0m\u001b[0;34m\u001b[0m\u001b[0m\n\u001b[1;32m      2\u001b[0m \u001b[0;32mfor\u001b[0m \u001b[0mmy_x\u001b[0m \u001b[0;32min\u001b[0m \u001b[0mmy_x_collection\u001b[0m\u001b[0;34m:\u001b[0m\u001b[0;34m\u001b[0m\u001b[0;34m\u001b[0m\u001b[0m\n\u001b[0;32m----> 3\u001b[0;31m     \u001b[0mprint\u001b[0m\u001b[0;34m(\u001b[0m\u001b[0mmy_x\u001b[0m\u001b[0;34m,\u001b[0m \u001b[0;34mf'{xor_neuron(my_x):.3f}'\u001b[0m\u001b[0;34m)\u001b[0m\u001b[0;34m\u001b[0m\u001b[0;34m\u001b[0m\u001b[0m\n\u001b[0m",
            "\u001b[0;32m/tmp/ipython-input-34626215.py\u001b[0m in \u001b[0;36mxor_neuron\u001b[0;34m(x)\u001b[0m\n\u001b[1;32m      2\u001b[0m \u001b[0;32mdef\u001b[0m \u001b[0mxor_neuron\u001b[0m\u001b[0;34m(\u001b[0m\u001b[0mx\u001b[0m\u001b[0;34m)\u001b[0m\u001b[0;34m:\u001b[0m\u001b[0;34m\u001b[0m\u001b[0;34m\u001b[0m\u001b[0m\n\u001b[1;32m      3\u001b[0m   \u001b[0mx1\u001b[0m\u001b[0;34m,\u001b[0m \u001b[0mx2\u001b[0m \u001b[0;34m=\u001b[0m \u001b[0mx\u001b[0m\u001b[0;34m\u001b[0m\u001b[0;34m\u001b[0m\u001b[0m\n\u001b[0;32m----> 4\u001b[0;31m   \u001b[0;32mreturn\u001b[0m \u001b[0mor_neuron\u001b[0m\u001b[0;34m(\u001b[0m\u001b[0mand_neuron\u001b[0m\u001b[0;34m(\u001b[0m\u001b[0mnot_neuron\u001b[0m\u001b[0;34m(\u001b[0m\u001b[0mx1\u001b[0m\u001b[0;34m)\u001b[0m\u001b[0;34m,\u001b[0m \u001b[0mx2\u001b[0m\u001b[0;34m)\u001b[0m\u001b[0;34m,\u001b[0m \u001b[0mand_neuron\u001b[0m\u001b[0;34m(\u001b[0m\u001b[0mx1\u001b[0m\u001b[0;34m,\u001b[0m \u001b[0mnot_neuron\u001b[0m\u001b[0;34m(\u001b[0m\u001b[0mx2\u001b[0m\u001b[0;34m)\u001b[0m\u001b[0;34m)\u001b[0m\u001b[0;34m)\u001b[0m\u001b[0;34m\u001b[0m\u001b[0;34m\u001b[0m\u001b[0m\n\u001b[0m",
            "\u001b[0;32m/tmp/ipython-input-3734401512.py\u001b[0m in \u001b[0;36mnot_neuron\u001b[0;34m(x)\u001b[0m\n\u001b[1;32m      1\u001b[0m \u001b[0;31m# Package NOT neuron weight and bias\u001b[0m\u001b[0;34m\u001b[0m\u001b[0;34m\u001b[0m\u001b[0m\n\u001b[1;32m      2\u001b[0m \u001b[0;32mdef\u001b[0m \u001b[0mnot_neuron\u001b[0m\u001b[0;34m(\u001b[0m\u001b[0mx\u001b[0m\u001b[0;34m)\u001b[0m\u001b[0;34m:\u001b[0m\u001b[0;34m\u001b[0m\u001b[0;34m\u001b[0m\u001b[0m\n\u001b[0;32m----> 3\u001b[0;31m   \u001b[0;32mreturn\u001b[0m \u001b[0mneuron\u001b[0m\u001b[0;34m(\u001b[0m\u001b[0mx\u001b[0m\u001b[0;34m,\u001b[0m \u001b[0;34m[\u001b[0m\u001b[0;36m10\u001b[0m\u001b[0;34m]\u001b[0m\u001b[0;34m,\u001b[0m \u001b[0;34m-\u001b[0m\u001b[0;36m5\u001b[0m\u001b[0;34m)\u001b[0m\u001b[0;34m\u001b[0m\u001b[0;34m\u001b[0m\u001b[0m\n\u001b[0m",
            "\u001b[0;32m/tmp/ipython-input-1499403688.py\u001b[0m in \u001b[0;36mneuron\u001b[0;34m(x, weights, bias)\u001b[0m\n\u001b[1;32m      1\u001b[0m \u001b[0;31m# Full neuron function\u001b[0m\u001b[0;34m\u001b[0m\u001b[0;34m\u001b[0m\u001b[0m\n\u001b[1;32m      2\u001b[0m \u001b[0;32mdef\u001b[0m \u001b[0mneuron\u001b[0m\u001b[0;34m(\u001b[0m\u001b[0mx\u001b[0m\u001b[0;34m,\u001b[0m \u001b[0mweights\u001b[0m\u001b[0;34m,\u001b[0m \u001b[0mbias\u001b[0m\u001b[0;34m)\u001b[0m\u001b[0;34m:\u001b[0m\u001b[0;34m\u001b[0m\u001b[0;34m\u001b[0m\u001b[0m\n\u001b[0;32m----> 3\u001b[0;31m   \u001b[0mj\u001b[0m \u001b[0;34m=\u001b[0m \u001b[0mlinear_neuron\u001b[0m \u001b[0;34m(\u001b[0m\u001b[0mx\u001b[0m\u001b[0;34m,\u001b[0m \u001b[0mweights\u001b[0m\u001b[0;34m,\u001b[0m \u001b[0mbias\u001b[0m\u001b[0;34m)\u001b[0m\u001b[0;34m\u001b[0m\u001b[0;34m\u001b[0m\u001b[0m\n\u001b[0m\u001b[1;32m      4\u001b[0m   \u001b[0;32mreturn\u001b[0m \u001b[0msigmoid\u001b[0m\u001b[0;34m(\u001b[0m\u001b[0mj\u001b[0m\u001b[0;34m)\u001b[0m\u001b[0;34m\u001b[0m\u001b[0;34m\u001b[0m\u001b[0m\n\u001b[1;32m      5\u001b[0m \u001b[0;34m\u001b[0m\u001b[0m\n",
            "\u001b[0;32m/tmp/ipython-input-3528713164.py\u001b[0m in \u001b[0;36mlinear_neuron\u001b[0;34m(x, weights, bias)\u001b[0m\n\u001b[1;32m      1\u001b[0m \u001b[0;31m# Neuron linear (internal) potential\u001b[0m\u001b[0;34m\u001b[0m\u001b[0;34m\u001b[0m\u001b[0m\n\u001b[1;32m      2\u001b[0m \u001b[0;32mdef\u001b[0m \u001b[0mlinear_neuron\u001b[0m\u001b[0;34m(\u001b[0m\u001b[0mx\u001b[0m\u001b[0;34m,\u001b[0m \u001b[0mweights\u001b[0m\u001b[0;34m,\u001b[0m \u001b[0mbias\u001b[0m\u001b[0;34m)\u001b[0m\u001b[0;34m:\u001b[0m\u001b[0;34m\u001b[0m\u001b[0;34m\u001b[0m\u001b[0m\n\u001b[0;32m----> 3\u001b[0;31m   \u001b[0ms\u001b[0m \u001b[0;34m=\u001b[0m \u001b[0msum\u001b[0m\u001b[0;34m(\u001b[0m\u001b[0mmul\u001b[0m\u001b[0;34m(\u001b[0m\u001b[0mx\u001b[0m\u001b[0;34m,\u001b[0m \u001b[0mweights\u001b[0m\u001b[0;34m)\u001b[0m\u001b[0;34m)\u001b[0m \u001b[0;34m+\u001b[0m \u001b[0mbias\u001b[0m\u001b[0;34m\u001b[0m\u001b[0;34m\u001b[0m\u001b[0m\n\u001b[0m\u001b[1;32m      4\u001b[0m   \u001b[0;32mreturn\u001b[0m \u001b[0ms\u001b[0m\u001b[0;34m\u001b[0m\u001b[0;34m\u001b[0m\u001b[0m\n",
            "\u001b[0;32m/tmp/ipython-input-3595896712.py\u001b[0m in \u001b[0;36mmul\u001b[0;34m(a, b)\u001b[0m\n\u001b[1;32m      1\u001b[0m \u001b[0;31m# Multiply two lists element wise\u001b[0m\u001b[0;34m\u001b[0m\u001b[0;34m\u001b[0m\u001b[0m\n\u001b[1;32m      2\u001b[0m \u001b[0;32mdef\u001b[0m \u001b[0mmul\u001b[0m\u001b[0;34m(\u001b[0m\u001b[0ma\u001b[0m\u001b[0;34m,\u001b[0m \u001b[0mb\u001b[0m\u001b[0;34m)\u001b[0m\u001b[0;34m:\u001b[0m\u001b[0;34m\u001b[0m\u001b[0;34m\u001b[0m\u001b[0m\n\u001b[0;32m----> 3\u001b[0;31m   \u001b[0mc\u001b[0m \u001b[0;34m=\u001b[0m \u001b[0;34m[\u001b[0m\u001b[0;36m0\u001b[0m\u001b[0;34m]\u001b[0m \u001b[0;34m*\u001b[0m \u001b[0mlen\u001b[0m\u001b[0;34m(\u001b[0m\u001b[0ma\u001b[0m\u001b[0;34m)\u001b[0m\u001b[0;34m\u001b[0m\u001b[0;34m\u001b[0m\u001b[0m\n\u001b[0m\u001b[1;32m      4\u001b[0m   \u001b[0;32mfor\u001b[0m \u001b[0mi\u001b[0m \u001b[0;32min\u001b[0m \u001b[0mrange\u001b[0m\u001b[0;34m(\u001b[0m\u001b[0mlen\u001b[0m\u001b[0;34m(\u001b[0m\u001b[0ma\u001b[0m\u001b[0;34m)\u001b[0m\u001b[0;34m)\u001b[0m\u001b[0;34m:\u001b[0m\u001b[0;34m\u001b[0m\u001b[0;34m\u001b[0m\u001b[0m\n\u001b[1;32m      5\u001b[0m     \u001b[0mc\u001b[0m\u001b[0;34m[\u001b[0m\u001b[0mi\u001b[0m\u001b[0;34m]\u001b[0m \u001b[0;34m=\u001b[0m \u001b[0ma\u001b[0m\u001b[0;34m[\u001b[0m\u001b[0mi\u001b[0m\u001b[0;34m]\u001b[0m \u001b[0;34m*\u001b[0m \u001b[0mb\u001b[0m\u001b[0;34m[\u001b[0m\u001b[0mi\u001b[0m\u001b[0;34m]\u001b[0m\u001b[0;34m\u001b[0m\u001b[0;34m\u001b[0m\u001b[0m\n",
            "\u001b[0;31mTypeError\u001b[0m: object of type 'int' has no len()"
          ]
        }
      ],
      "source": [
        "print('Checking XOR neuron output')\n",
        "for my_x in my_x_collection:\n",
        "    print(my_x, f'{xor_neuron(my_x):.3f}')"
      ]
    },
    {
      "cell_type": "markdown",
      "metadata": {
        "id": "s7VkwTfsvvaJ"
      },
      "source": [
        "![Half-adder](https://github.com/Atcold/NYU-DLSP20/blob/master/res/half-adder_circuit.png?raw=1)"
      ]
    },
    {
      "cell_type": "code",
      "execution_count": null,
      "metadata": {
        "id": "3c8KNegLvvaJ"
      },
      "outputs": [],
      "source": [
        "# Combine a XOR and an AND into a half-adder\n",
        "# ⬅️✏️"
      ]
    },
    {
      "cell_type": "markdown",
      "metadata": {
        "id": "N-_2EbbvvvaJ"
      },
      "source": [
        "---"
      ]
    },
    {
      "cell_type": "markdown",
      "metadata": {
        "id": "hvrz-KBnvvaJ"
      },
      "source": [
        "![Adder](https://github.com/Atcold/NYU-DLSP20/blob/master/res/adder_circuit.png?raw=1)"
      ]
    },
    {
      "cell_type": "code",
      "execution_count": null,
      "metadata": {
        "id": "5TCoXjKMvvaJ"
      },
      "outputs": [],
      "source": [
        "# Combine two half-adders and an OR into a (full) adder\n",
        "# ⬅️✏️"
      ]
    },
    {
      "cell_type": "markdown",
      "metadata": {
        "id": "GIde1W4ivvaJ"
      },
      "source": [
        "---"
      ]
    }
  ],
  "metadata": {
    "jupytext": {
      "encoding": "# -*- coding: utf-8 -*-"
    },
    "kernelspec": {
      "display_name": "Python 3",
      "language": "python",
      "name": "python3"
    },
    "language_info": {
      "codemirror_mode": {
        "name": "ipython",
        "version": 3
      },
      "file_extension": ".py",
      "mimetype": "text/x-python",
      "name": "python",
      "nbconvert_exporter": "python",
      "pygments_lexer": "ipython3",
      "version": "3.7.4"
    },
    "colab": {
      "provenance": []
    }
  },
  "nbformat": 4,
  "nbformat_minor": 0
}